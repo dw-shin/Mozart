{
 "cells": [
  {
   "cell_type": "markdown",
   "metadata": {},
   "source": [
    "## Poisson equation 1D\n",
    "\\begin{equation}\n",
    "    \\begin{cases}\n",
    "\t-u'' = f(x) &\\text{ in } \\Omega = [0,1] \\\\\n",
    "\t u(0) = u(1) = 0 & \n",
    "\t\\end{cases}\n",
    "\\end{equation}"
   ]
  },
  {
   "cell_type": "code",
   "execution_count": 1,
   "metadata": {
    "collapsed": true
   },
   "outputs": [],
   "source": [
    "import numpy as np"
   ]
  },
  {
   "cell_type": "markdown",
   "metadata": {},
   "source": [
    "\\begin{align}\n",
    "u(x) &= sin(\\pi x)\\\\\n",
    "f(x) &= \\pi^2\\sin(\\pi x)\n",
    "\\end{align}"
   ]
  },
  {
   "cell_type": "code",
   "execution_count": 2,
   "metadata": {
    "collapsed": true
   },
   "outputs": [],
   "source": [
    "f = lambda x: np.pi ** 2 * np.sin(np.pi * x)\n",
    "u_D = lambda x: np.zeros_like(x)"
   ]
  },
  {
   "cell_type": "code",
   "execution_count": 3,
   "metadata": {
    "collapsed": false
   },
   "outputs": [],
   "source": [
    "from mozart.mesh.rectangle import interval\n",
    "nrElems = 7\n",
    "degree = 1\n",
    "c4n, n4e, n4db, ind4e = interval(0, 1, nrElems, degree)"
   ]
  },
  {
   "cell_type": "code",
   "execution_count": 4,
   "metadata": {
    "collapsed": false
   },
   "outputs": [
    {
     "data": {
      "text/plain": [
       "array([ 0.        ,  0.14285714,  0.28571429,  0.42857143,  0.57142857,\n",
       "        0.71428571,  0.85714286,  1.        ])"
      ]
     },
     "execution_count": 4,
     "metadata": {},
     "output_type": "execute_result"
    }
   ],
   "source": [
    "c4n"
   ]
  },
  {
   "cell_type": "code",
   "execution_count": 5,
   "metadata": {
    "collapsed": false
   },
   "outputs": [],
   "source": [
    "from mozart.poisson.fem.interval import solve\n",
    "x = solve(c4n, n4e, n4db, ind4e, f, u_D, degree)"
   ]
  },
  {
   "cell_type": "code",
   "execution_count": 6,
   "metadata": {
    "collapsed": false
   },
   "outputs": [
    {
     "data": {
      "text/plain": [
       "array([ 0.        ,  0.42667492,  0.76884164,  0.95872984,  0.95872984,\n",
       "        0.76884164,  0.42667492,  0.        ])"
      ]
     },
     "execution_count": 6,
     "metadata": {},
     "output_type": "execute_result"
    }
   ],
   "source": [
    "x"
   ]
  },
  {
   "cell_type": "code",
   "execution_count": 7,
   "metadata": {
    "collapsed": false
   },
   "outputs": [
    {
     "data": {
      "image/png": "[encoded data removed]",
      "text/plain": [
       "<matplotlib.figure.Figure at 0x1da492c3b70>"
      ]
     },
     "metadata": {},
     "output_type": "display_data"
    }
   ],
   "source": [
    "%matplotlib inline\n",
    "import matplotlib.pyplot as plt\n",
    "plt.plot(c4n, x, 'o-')\n",
    "plt.grid()"
   ]
  },
  {
   "cell_type": "markdown",
   "metadata": {},
   "source": [
    "### Error Convergence"
   ]
  },
  {
   "cell_type": "code",
   "execution_count": 8,
   "metadata": {
    "collapsed": true
   },
   "outputs": [],
   "source": [
    "f = lambda x: np.pi ** 2 * np.sin(np.pi * x)\n",
    "u_D = lambda x: np.zeros_like(x)\n",
    "exact_u = lambda x: np.sin(np.pi * x)\n",
    "exact_ux = lambda x: np.pi * np.cos(np.pi * x)"
   ]
  },
  {
   "cell_type": "code",
   "execution_count": 9,
   "metadata": {
    "collapsed": true
   },
   "outputs": [],
   "source": [
    "from mozart.poisson.fem.interval import computeError"
   ]
  },
  {
   "cell_type": "code",
   "execution_count": 10,
   "metadata": {
    "collapsed": false
   },
   "outputs": [
    {
     "name": "stdout",
     "output_type": "stream",
     "text": [
      "Degree of Polynomial = 1\n",
      "L2 = 0.0323728529, H1 = 0.3378838486\n",
      "L2 = 0.0082306511, H1 = 0.1681670719\n",
      "L2 = 0.0020663224, H1 = 0.0839784610\n",
      "L2 = 0.0005171229, H1 = 0.0419758340\n",
      "=====================================\n",
      "Degree of Polynomial = 2\n",
      "L2 = 0.0005907883, H1 = 0.0226088307\n",
      "L2 = 0.0000731873, H1 = 0.0056686738\n",
      "L2 = 0.0000091274, H1 = 0.0014182070\n",
      "L2 = 0.0000011403, H1 = 0.0003546168\n",
      "=====================================\n",
      "Degree of Polynomial = 3\n",
      "L2 = 0.0000193160, H1 = 0.0010014343\n",
      "L2 = 0.0000012139, H1 = 0.0001254561\n",
      "L2 = 0.0000000760, H1 = 0.0000156906\n",
      "L2 = 0.0000000047, H1 = 0.0000019616\n",
      "=====================================\n",
      "Degree of Polynomial = 4\n",
      "L2 = 0.0000004448, H1 = 0.0000330369\n",
      "L2 = 0.0000000139, H1 = 0.0000020691\n",
      "L2 = 0.0000000004, H1 = 0.0000001294\n",
      "L2 = 0.0000000000, H1 = 0.0000000081\n",
      "=====================================\n",
      "Degree of Polynomial = 5\n",
      "L2 = 0.0000000103, H1 = 0.0000008697\n",
      "L2 = 0.0000000002, H1 = 0.0000000272\n",
      "L2 = 0.0000000000, H1 = 0.0000000009\n",
      "L2 = 0.0000000000, H1 = 0.0000000000\n",
      "=====================================\n"
     ]
    }
   ],
   "source": [
    "for degree in range(1, 6):\n",
    "    print(\"Degree of Polynomial = {0}\".format(degree))\n",
    "    nrElems = 3\n",
    "    for it in range(0, 4):\n",
    "        nrElems *= 2\n",
    "        c4n, n4e, n4db, ind4e = interval(0, 1, nrElems, degree)\n",
    "        u = solve(c4n, n4e, n4db, ind4e, f, u_D, degree)\n",
    "        L2, sH1 = computeError(c4n, n4e, ind4e, exact_u, exact_ux, u, degree, degree + 3)\n",
    "        print(\"L2 = {0:12.10f}, H1 = {1:12.10f}\".format(L2, sH1))\n",
    "    print(\"=====================================\")"
   ]
  },
  {
   "cell_type": "code",
   "execution_count": null,
   "metadata": {
    "collapsed": true
   },
   "outputs": [],
   "source": []
  }
 ],
 "metadata": {
  "kernelspec": {
   "display_name": "Python 3",
   "language": "python",
   "name": "python3"
  },
  "language_info": {
   "codemirror_mode": {
    "name": "ipython",
    "version": 3
   },
   "file_extension": ".py",
   "mimetype": "text/x-python",
   "name": "python",
   "nbconvert_exporter": "python",
   "pygments_lexer": "ipython3",
   "version": "3.5.2"
  }
 },
 "nbformat": 4,
 "nbformat_minor": 1
}
